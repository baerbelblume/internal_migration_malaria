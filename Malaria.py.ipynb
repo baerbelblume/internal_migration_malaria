{
 "cells": [
  {
   "cell_type": "code",
   "execution_count": null,
   "metadata": {},
   "outputs": [],
   "source": [
    "#import packages necessary\n",
    "import numpy as np\n",
    "import pandas as pd\n",
    "import matplotlib.pyplot as plt\n",
    "\n",
    "import glob\n",
    "import plotly.offline as py\n",
    "import plotly.graph_objs as go\n",
    "\n",
    "# for the notebook only (not for JupyterLab) run this command once per session\n",
    "py.offline.init_notebook_mode(connected=True)"
   ]
  },
  {
   "cell_type": "markdown",
   "metadata": {},
   "source": [
    "**Load each folder containing the migration paths for Africa**"
   ]
  },
  {
   "cell_type": "code",
   "execution_count": null,
   "metadata": {},
   "outputs": [],
   "source": [
    "###load dataset: AFRICA\n",
    "\n",
    "path =r'/Users/**/OneDrive/AFR_MIG/'\n",
    "\n",
    "\n",
    "df_total = pd.concat([pd.read_csv(f, sep=',') for f in glob.glob(path + \"*/*.csv\")],\n",
    "                      ignore_index=True, axis=0, sort=True)\n"
   ]
  },
  {
   "cell_type": "code",
   "execution_count": null,
   "metadata": {},
   "outputs": [],
   "source": [
    "## check for outliers\n",
    "\n",
    "high_prd = df_total.groupby('PrdMIG')['PrdMIG'].max()\n",
    "\n",
    "print (df_total.describe())\n",
    "\n",
    "\n",
    "### check highest and lowest PrdMIG values\n",
    "print (df_total.sort_values('PrdMIG', ascending=False).head())\n",
    "print (df_total.sort_values('PrdMIG', ascending=False).tail())\n",
    "\n"
   ]
  },
  {
   "cell_type": "code",
   "execution_count": null,
   "metadata": {},
   "outputs": [],
   "source": [
    "##create boxplot showing the distribution of predicted migration values by country\n",
    "\n",
    "df_total.boxplot(column=['PrdMIG'], by=['ISO'], figsize=[50,5])"
   ]
  },
  {
   "cell_type": "markdown",
   "metadata": {},
   "source": [
    "This shows one really high outlier of more than 80,000 internal migrants in Nigeria."
   ]
  },
  {
   "cell_type": "code",
   "execution_count": null,
   "metadata": {},
   "outputs": [],
   "source": [
    "#removing really high outliers (>20,000) to further investigate distribution\n",
    "df_total_adj = df_total[df_total['PrdMIG'] < 20000]\n",
    "\n",
    "df_total_adj.boxplot(column=['PrdMIG'], by=['ISO'], figsize=[50,5])"
   ]
  },
  {
   "cell_type": "code",
   "execution_count": null,
   "metadata": {},
   "outputs": [],
   "source": [
    "#plot AFRICAN paths\n",
    "migration_paths = []\n",
    "for i in range(len(df_total)):\n",
    "    migration_paths.append(\n",
    "        dict(\n",
    "            type = 'scattergeo',\n",
    "            lat =  [df_total['LATFR'][i], df_total['LATTO'][i] ],\n",
    "            lon =  [df_total['LONFR'][i], df_total['LONTO'][i] ],\n",
    "            mode = 'lines',\n",
    "            line = dict(\n",
    "                width = 2,\n",
    "                color = 'red',\n",
    "            ),\n",
    "            opacity = float(df_total['PrdMIG'][i])/float(df_total['PrdMIG'].max())\n",
    "            \n",
    "        )\n",
    "    )\n",
    "\n",
    "layout = dict(\n",
    "        title = 'Internal migration paths',\n",
    "        showlegend = False, \n",
    "        geo = dict(\n",
    "            #projection=dict( type='azimuthal equal area' ),\n",
    "            #showland = True,\n",
    "            #landcolor = 'rgb(243, 243, 243)',\n",
    "            #countrycolor = 'rgb(204, 204, 204)',\n",
    "            resolution = 50,\n",
    "            scope = 'africa',\n",
    "            showframe = False,\n",
    "            showcoastlines = True,\n",
    "            showland = True,\n",
    "            landcolor = \"rgb(229, 229, 229)\",\n",
    "            coastlinecolor = \"rgb(255, 255, 255)\",\n",
    "        ),\n",
    "    )\n",
    "\n",
    "\n",
    "fig = dict( data=migration_paths, layout=layout )\n",
    "py.iplot( fig, filename='mig-paths' ) \n",
    "   "
   ]
  },
  {
   "cell_type": "code",
   "execution_count": null,
   "metadata": {},
   "outputs": [],
   "source": [
    "###INTERNATIONAL MIGRATION\n",
    "\n",
    "import matplotlib.pyplot as plt\n",
    "\n",
    "international_migration = pd.read_csv('/Users/**/OneDrive/international_migration.csv')\n",
    "\n",
    "Blues = plt.get_cmap('Blues')\n",
    "\n",
    "#plot all paths\n",
    "migration_paths1 = []\n",
    "\n",
    "scl = [[0.0, 'rgb(242,240,247)'],[0.2, 'rgb(218,218,235)'],[0.4, 'rgb(188,189,220)'],\\\n",
    "            [0.6, 'rgb(158,154,200)'],[0.8, 'rgb(117,107,177)'],[1.0, 'rgb(84,39,143)']]\n",
    "\n",
    "\n",
    "\n",
    "for i in range(10):#len(df_total)):\n",
    "    migration_paths1.append(\n",
    "        dict(\n",
    "            type = 'choropleth',\n",
    "            colorscale = scl,\n",
    "            autocolorscale = False,\n",
    "            locations = international_migration['Country'],\n",
    "            z = international_migration['normalized'].astype(float),\n",
    "            locationmode = 'country names',\n",
    "            marker = dict(\n",
    "                line = dict (\n",
    "                    color = 'rgb(255,255,255)',\n",
    "                    width = 2\n",
    "                ) ),\n",
    "            colorbar = dict(\n",
    "                title = \"Migrants\")\n",
    "            )) \n",
    "\n",
    "\n",
    "layout = dict(\n",
    "        title = 'International Immigration',\n",
    "        showlegend = False, \n",
    "        geo = dict(\n",
    "            #projection=dict( type='azimuthal equal area' ),\n",
    "            #showland = True,\n",
    "            #landcolor = 'rgb(243, 243, 243)',\n",
    "            #countrycolor = 'rgb(204, 204, 204)',\n",
    "            resolution = 50,\n",
    "            scope = 'africa',\n",
    "            showframe = False,\n",
    "            showcoastlines = True,\n",
    "            showland = True,\n",
    "            landcolor = \"rgb(229, 229, 229)\",\n",
    "            coastlinecolor = \"rgb(255, 255, 255)\",\n",
    "        ),\n",
    "    )\n",
    "\n",
    " \n",
    "fig1 = dict( data=migration_paths1, layout=layout )\n",
    "py.iplot( fig1, filename='mig-paths' ) \n",
    "\n"
   ]
  },
  {
   "cell_type": "code",
   "execution_count": null,
   "metadata": {},
   "outputs": [],
   "source": []
  }
 ],
 "metadata": {
  "kernelspec": {
   "display_name": "Python 3",
   "language": "python",
   "name": "python3"
  },
  "language_info": {
   "codemirror_mode": {
    "name": "ipython",
    "version": 3
   },
   "file_extension": ".py",
   "mimetype": "text/x-python",
   "name": "python",
   "nbconvert_exporter": "python",
   "pygments_lexer": "ipython3",
   "version": "3.7.0"
  }
 },
 "nbformat": 4,
 "nbformat_minor": 2
}
